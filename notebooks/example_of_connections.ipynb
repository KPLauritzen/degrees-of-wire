{
 "cells": [
  {
   "cell_type": "code",
   "execution_count": 17,
   "metadata": {},
   "outputs": [
    {
     "name": "stdout",
     "output_type": "stream",
     "text": [
      "2020-10-17 16:36:39,430 - kedro.io.data_catalog - INFO - Loading data from `movie_graph` (PickleDataSet)...\n"
     ]
    }
   ],
   "source": [
    "G = catalog.load(\"movie_graph\")"
   ]
  },
  {
   "cell_type": "code",
   "execution_count": 18,
   "metadata": {},
   "outputs": [],
   "source": [
    "import networkx as nx"
   ]
  },
  {
   "cell_type": "code",
   "execution_count": 55,
   "metadata": {},
   "outputs": [],
   "source": [
    "def get_connection(root, target, max_collabs_print=5):\n",
    "    path = nx.algorithms.shortest_path(G, root, target)\n",
    "    print(\" -> \".join(path))\n",
    "    print(\"---\\nDetails:\")\n",
    "    for start, end in zip(path, path[1:]):\n",
    "        collabs = G.get_edge_data(start, end)\n",
    "        collabs_str = \", \".join([work[\"work\"] for work in collabs.values()])\n",
    "        if len(collabs) > max_collabs_print:\n",
    "            collabs_str += \"...\"\n",
    "        print(f\"{start} -> {end}: {len(collabs)} collaboration(s)\")\n",
    "        print(collabs_str)\n"
   ]
  },
  {
   "cell_type": "code",
   "execution_count": 57,
   "metadata": {},
   "outputs": [
    {
     "name": "stdout",
     "output_type": "stream",
     "text": [
      "Christopher Lee -> Stellan Skarsgård -> Mads Mikkelsen\n",
      "---\n",
      "Details\n",
      "Christopher Lee -> Stellan Skarsgård: 1 collaboration(s)\n",
      "Boogie Woogie (film)\n",
      "Stellan Skarsgård -> Mads Mikkelsen: 2 collaboration(s)\n",
      "King Arthur (2004 film), Moomins and the Comet Chase\n"
     ]
    }
   ],
   "source": [
    "root = \"Christopher Lee\"\n",
    "target = \"Mads Mikkelsen\"\n",
    "\n",
    "\n",
    "get_connection(root, target)"
   ]
  },
  {
   "cell_type": "code",
   "execution_count": null,
   "metadata": {},
   "outputs": [],
   "source": []
  }
 ],
 "metadata": {
  "kernelspec": {
   "display_name": "DegreesofTheWire",
   "language": "python",
   "name": "python3"
  },
  "language_info": {
   "codemirror_mode": {
    "name": "ipython",
    "version": 3
   },
   "file_extension": ".py",
   "mimetype": "text/x-python",
   "name": "python",
   "nbconvert_exporter": "python",
   "pygments_lexer": "ipython3",
   "version": "3.8.6"
  }
 },
 "nbformat": 4,
 "nbformat_minor": 4
}
